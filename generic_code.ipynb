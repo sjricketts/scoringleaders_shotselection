{
 "cells": [
  {
   "cell_type": "code",
   "execution_count": null,
   "metadata": {},
   "outputs": [],
   "source": [
    "# player, season\n",
    "url_base = 'https://stats.nba.com/stats/shotchartdetail'\n",
    "\n",
    "headers = {\n",
    "    'Host': 'stats.nba.com',\n",
    "    'Connection': 'keep-alive',\n",
    "    'Accept': 'application/json, text/plain, */*',\n",
    "    'User-Agent': 'Mozilla/5.0 (Windows NT 10.0; Win64; x64) AppleWebKit/537.36 (KHTML, like Gecko) Chrome/79.0.3945.130 Safari/537.36',\n",
    "    'Referer': 'https://stats.nba.com/',\n",
    "    \"x-nba-stats-origin\": \"stats\",\n",
    "    \"x-nba-stats-token\": \"true\",\n",
    "    'Accept-Encoding': 'gzip, deflate, br',\n",
    "    'Accept-Language': 'en-US,en;q=0.9',\n",
    "}\n",
    "\n",
    "parameters = {\n",
    "    'ContextMeasure': 'FGA',\n",
    "    'LastNGames': 0,\n",
    "    'LeagueID': '00',\n",
    "    'Month': 0,\n",
    "    'OpponentTeamID': 0,\n",
    "    'Period': 0,\n",
    "    'PlayerID': 406,\n",
    "    'SeasonType': 'Regular Season',\n",
    "    'TeamID': 0,\n",
    "    'VsDivision': '',\n",
    "    'VsConference': '',\n",
    "    'SeasonSegment': '',\n",
    "    'Season': '1998-99',\n",
    "    'RookieYear': '',\n",
    "    'PlayerPosition': '',\n",
    "    'Outcome': '',\n",
    "    'Location': '',\n",
    "    'GameSegment': '',\n",
    "    'GameId': '',\n",
    "    'DateTo': '',\n",
    "    'DateFrom': ''\n",
    "}\n",
    "\n",
    "response = requests.get(url_base, params=parameters, headers=headers)\n",
    "content = json.loads(response.content)\n",
    "\n",
    "results = content['resultSets'][0]\n",
    "headers = results['headers']\n",
    "rows = results['rowSet']\n",
    "shaq98_df = pd.DataFrame(rows)\n",
    "shaq98_df.columns = headers\n",
    "shaq98_df.head()"
   ]
  },
  {
   "cell_type": "code",
   "execution_count": null,
   "metadata": {},
   "outputs": [],
   "source": [
    "shaq98_df.to_csv(\"../shot_data/1998-99.csv\", index=False)"
   ]
  }
 ],
 "metadata": {
  "kernelspec": {
   "display_name": "Python 3",
   "language": "python",
   "name": "python3"
  },
  "language_info": {
   "codemirror_mode": {
    "name": "ipython",
    "version": 3
   },
   "file_extension": ".py",
   "mimetype": "text/x-python",
   "name": "python",
   "nbconvert_exporter": "python",
   "pygments_lexer": "ipython3",
   "version": "3.8.3"
  }
 },
 "nbformat": 4,
 "nbformat_minor": 4
}
